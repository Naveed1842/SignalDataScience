{
 "cells": [
  {
   "cell_type": "code",
   "execution_count": 1,
   "metadata": {
    "collapsed": false
   },
   "outputs": [
    {
     "name": "stderr",
     "output_type": "stream",
     "text": [
      "/Users/nathan/.pyenv/versions/3.5.2/envs/stats/lib/python3.5/site-packages/nltk/twitter/__init__.py:20: UserWarning: The twython library has not been installed. Some functionality from the twitter package will not be available.\n",
      "  warnings.warn(\"The twython library has not been installed. \"\n"
     ]
    }
   ],
   "source": [
    "import nltk\n",
    "import re\n",
    "from nltk.corpus import stopwords\n",
    "import pandas as pd\n",
    "import timeit\n",
    "import numpy as np\n",
    "import sys\n",
    "from nltk.sentiment.vader import SentimentIntensityAnalyzer"
   ]
  },
  {
   "cell_type": "code",
   "execution_count": 41,
   "metadata": {
    "collapsed": false
   },
   "outputs": [],
   "source": [
    "# Process the amazon review text\n",
    "\n",
    "\n",
    "\n",
    "def review_to_words(review_text, stops):\n",
    "    # Function to convert a raw review to a string of words\n",
    "    # The input is a single string (a raw movie review), and \n",
    "    # the output is a single string (a preprocessed movie review)\n",
    "    #\n",
    "    # 1. Remove non-letters        \n",
    "    letters_only = re.sub(\"[^a-zA-Z]\", \" \", review_text) \n",
    "    #\n",
    "    # 2. Convert to lower case, split into individual words\n",
    "    words = letters_only.lower().split()                             \n",
    "    #\n",
    "    # 3. Remove stop words\n",
    "    meaningful_words = [w for w in words if not w in stops and len(w)>3]   \n",
    "    #\n",
    "    # 4. Join the words back into one string separated by space, \n",
    "    # and return the result.\n",
    "    return( \" \".join( meaningful_words ))\n",
    "\n",
    "\n",
    "#  In Python, searching a set is much faster than searching\n",
    "#  a list, so convert the stop words to a set\n",
    "stops = set(stopwords.words(\"english\"))                  \n",
    "\n",
    "\n",
    "\n",
    "\n"
   ]
  },
  {
   "cell_type": "code",
   "execution_count": 6,
   "metadata": {
    "collapsed": true
   },
   "outputs": [],
   "source": [
    "# Initialize key variables\n",
    "\n",
    "path = \"/Users/nathan/Documents/Stats/SignalDataScience/finalproject/datafiles/\"\n",
    "target = \"chunk1.csv\"\n",
    "destination_file = \"processed1.csv\"\n",
    "debug = True"
   ]
  },
  {
   "cell_type": "code",
   "execution_count": 47,
   "metadata": {
    "collapsed": false
   },
   "outputs": [
    {
     "name": "stdout",
     "output_type": "stream",
     "text": [
      "['asin', 'helpful', 'overall', 'reviewText', 'reviewTime', 'reviewerID', 'reviewerName', 'summary', 'unixReviewTime']\n"
     ]
    }
   ],
   "source": [
    "# load df and add new col for processed reviews\n",
    "df = pd.read_json(path + target)\n",
    "print(list(df))\n",
    "df[\"sentiment\"] = np.nan"
   ]
  },
  {
   "cell_type": "code",
   "execution_count": 51,
   "metadata": {
    "collapsed": false
   },
   "outputs": [
    {
     "name": "stdout",
     "output_type": "stream",
     "text": [
      "['asin', 'helpful', 'overall', 'reviewText', 'reviewTime', 'reviewerID', 'reviewerName', 'summary', 'unixReviewTime', 'pros_text', 'sentiment']\n",
      "50001\n"
     ]
    },
    {
     "ename": "AttributeError",
     "evalue": "module 'nltk' has no attribute 'version'",
     "output_type": "error",
     "traceback": [
      "\u001b[0;31m---------------------------------------------------------------------------\u001b[0m",
      "\u001b[0;31mAttributeError\u001b[0m                            Traceback (most recent call last)",
      "\u001b[0;32m<ipython-input-51-9ca332cd512d>\u001b[0m in \u001b[0;36m<module>\u001b[0;34m()\u001b[0m\n\u001b[1;32m      1\u001b[0m \u001b[0mprint\u001b[0m\u001b[0;34m(\u001b[0m\u001b[0mlist\u001b[0m\u001b[0;34m(\u001b[0m\u001b[0mdf\u001b[0m\u001b[0;34m)\u001b[0m\u001b[0;34m)\u001b[0m\u001b[0;34m\u001b[0m\u001b[0m\n\u001b[1;32m      2\u001b[0m \u001b[0mprint\u001b[0m\u001b[0;34m(\u001b[0m\u001b[0mdf\u001b[0m\u001b[0;34m.\u001b[0m\u001b[0mshape\u001b[0m\u001b[0;34m[\u001b[0m\u001b[0;36m0\u001b[0m\u001b[0;34m]\u001b[0m\u001b[0;34m)\u001b[0m\u001b[0;34m\u001b[0m\u001b[0m\n\u001b[0;32m----> 3\u001b[0;31m \u001b[0mprint\u001b[0m\u001b[0;34m(\u001b[0m\u001b[0mnltk\u001b[0m\u001b[0;34m.\u001b[0m\u001b[0mversion\u001b[0m\u001b[0;34m)\u001b[0m\u001b[0;34m\u001b[0m\u001b[0m\n\u001b[0m",
      "\u001b[0;31mAttributeError\u001b[0m: module 'nltk' has no attribute 'version'"
     ]
    }
   ],
   "source": [
    "print(list(df))\n",
    "print(df.shape[0])\n"
   ]
  },
  {
   "cell_type": "code",
   "execution_count": 74,
   "metadata": {
    "collapsed": false
   },
   "outputs": [
    {
     "name": "stdout",
     "output_type": "stream",
     "text": [
      "Reviews processed:  46700"
     ]
    },
    {
     "ename": "TypeError",
     "evalue": "'method' object is not subscriptable",
     "output_type": "error",
     "traceback": [
      "\u001b[0;31m---------------------------------------------------------------------------\u001b[0m",
      "\u001b[0;31mTypeError\u001b[0m                                 Traceback (most recent call last)",
      "\u001b[0;32m<ipython-input-74-8bfbf1efc8a9>\u001b[0m in \u001b[0;36m<module>\u001b[0;34m()\u001b[0m\n\u001b[1;32m     18\u001b[0m     \u001b[0mtime_e\u001b[0m \u001b[0;34m=\u001b[0m \u001b[0;34m(\u001b[0m\u001b[0mint\u001b[0m\u001b[0;34m(\u001b[0m\u001b[0mtimeit\u001b[0m\u001b[0;34m.\u001b[0m\u001b[0mdefault_timer\u001b[0m\u001b[0;34m(\u001b[0m\u001b[0;34m)\u001b[0m\u001b[0;34m)\u001b[0m \u001b[0;34m-\u001b[0m \u001b[0mstart_time\u001b[0m\u001b[0;34m)\u001b[0m\u001b[0;34m/\u001b[0m\u001b[0;36m60\u001b[0m\u001b[0;34m\u001b[0m\u001b[0m\n\u001b[1;32m     19\u001b[0m     \u001b[0;32mif\u001b[0m \u001b[0mtime_e\u001b[0m \u001b[0;34m>=\u001b[0m \u001b[0mtry_minutes\u001b[0m\u001b[0;34m:\u001b[0m\u001b[0;34m\u001b[0m\u001b[0m\n\u001b[0;32m---> 20\u001b[0;31m         \u001b[0mdf\u001b[0m\u001b[0;34m.\u001b[0m\u001b[0mdrop\u001b[0m\u001b[0;34m[\u001b[0m\u001b[0;34m'reviewText'\u001b[0m\u001b[0;34m]\u001b[0m\u001b[0;34m\u001b[0m\u001b[0m\n\u001b[0m\u001b[1;32m     21\u001b[0m         \u001b[0mdf\u001b[0m\u001b[0;34m.\u001b[0m\u001b[0mto_csv\u001b[0m\u001b[0;34m(\u001b[0m\u001b[0mpath\u001b[0m \u001b[0;34m+\u001b[0m \u001b[0mdestination_file\u001b[0m\u001b[0;34m)\u001b[0m\u001b[0;34m\u001b[0m\u001b[0m\n\u001b[1;32m     22\u001b[0m         \u001b[0mprint\u001b[0m\u001b[0;34m(\u001b[0m\u001b[0mdf\u001b[0m\u001b[0;34m.\u001b[0m\u001b[0mhead\u001b[0m\u001b[0;34m(\u001b[0m\u001b[0;34m)\u001b[0m\u001b[0;34m)\u001b[0m\u001b[0;34m\u001b[0m\u001b[0m\n",
      "\u001b[0;31mTypeError\u001b[0m: 'method' object is not subscriptable"
     ]
    }
   ],
   "source": [
    "def df_sentiment(df):\n",
    "    stops = set(stopwords.words(\"english\"))  \n",
    "    # if debug == True, only try for try_minutes\n",
    "    try_minutes = 3\n",
    "    count = 0\n",
    "    start_time = int(timeit.default_timer())\n",
    "    old_count = 1\n",
    "    sid = SentimentIntensityAnalyzer()\n",
    "    df['vader'] = np.nan\n",
    "    for row in range(df.shape[0]):\n",
    "        if df.ix[row, \"vader\"] == np.nan:\n",
    "            # df.set_value(row,\"pros_text\",(review_to_words(df.ix[row, \"reviewText\"], stops)))\n",
    "            sentiment_list = 0\n",
    "            lines_list = nltk.tokenize.sent_tokenize(df.ix[row, \"reviewText\"])\n",
    "            for sentence in lines_list:\n",
    "                ss = sid.polarity_scores(sentence)\n",
    "                sentiment_list += ss['compound']\n",
    "            df.set_value(row,\"vader\",sentiment_list)\n",
    "        count += 1\n",
    "        time_e = (int(timeit.default_timer()) - start_time)/60\n",
    "        if time_e >= try_minutes:\n",
    "            # df.to_csv(path + destination_file)\n",
    "            # print(df.head())\n",
    "            print(\"Out of time. Total reviews sentiment processed: \", count)\n",
    "            return df\n",
    "        if count % 10000 == 0:\n",
    "            if old_count > 1: print(\"\", end = \"\\r\")\n",
    "            print(\"Reviews sentiment processed: \", count, end = \"\")\n",
    "            old_count = count\n",
    "            # sys.stdout.flush()\n",
    "    return df"
   ]
  },
  {
   "cell_type": "code",
   "execution_count": 46,
   "metadata": {
    "collapsed": false
   },
   "outputs": [
    {
     "name": "stdout",
     "output_type": "stream",
     "text": [
      "            asin helpful  overall  \\\n",
      "0     0000000078  [1, 1]        5   \n",
      "1     0000000116  [5, 5]        4   \n",
      "10    0000013714  [0, 0]        5   \n",
      "100   0000031887  [0, 0]        5   \n",
      "1000  000107461X  [0, 0]        5   \n",
      "\n",
      "                                             reviewText   reviewTime  \\\n",
      "0     Conversations with God Book 1 is the single mo...  08 11, 2004   \n",
      "1     Interesting Grisham tale of a lawyer that take...  04 27, 2002   \n",
      "10    This is a large size hymn book which is great ...   03 9, 2013   \n",
      "100   I wanted it for a one time use, and after that...   04 8, 2014   \n",
      "1000  the music was everything that I wanted. Would ...   02 3, 2013   \n",
      "\n",
      "          reviewerID    reviewerName                    summary  \\\n",
      "0     A3AF8FFZAZYNE5            None                 Impactful!   \n",
      "1      AH2L9G3DQHHAJ           chris         Show me the money!   \n",
      "10     APOZ15IEYQRRR       maewest64          Awesome Hymn Book   \n",
      "100   A1716964DOSFDG               D  You get what you pay for!   \n",
      "1000  A1Z6CDRFVIHES5  garland kimble              Excellent!,,,   \n",
      "\n",
      "      unixReviewTime                                          pros_text  \n",
      "0         1092182400  conversations book single extraordinary book e...  \n",
      "1         1019865600  interesting grisham tale lawyer takes millions...  \n",
      "10        1362787200  large size hymn book great able songs notes qu...  \n",
      "100       1396915200  wanted time kept playing nice looking first co...  \n",
      "1000      1359849600  music everything wanted would order service qu...  \n"
     ]
    }
   ],
   "source": [
    "print(df.head())"
   ]
  },
  {
   "cell_type": "code",
   "execution_count": null,
   "metadata": {
    "collapsed": true
   },
   "outputs": [],
   "source": []
  }
 ],
 "metadata": {
  "kernelspec": {
   "display_name": "Python 3",
   "language": "python",
   "name": "python3"
  },
  "language_info": {
   "codemirror_mode": {
    "name": "ipython",
    "version": 3
   },
   "file_extension": ".py",
   "mimetype": "text/x-python",
   "name": "python",
   "nbconvert_exporter": "python",
   "pygments_lexer": "ipython3",
   "version": "3.5.2"
  }
 },
 "nbformat": 4,
 "nbformat_minor": 1
}
