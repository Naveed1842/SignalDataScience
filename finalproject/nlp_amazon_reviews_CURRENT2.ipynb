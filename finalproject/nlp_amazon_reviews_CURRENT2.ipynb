{
 "cells": [
  {
   "cell_type": "code",
   "execution_count": 78,
   "metadata": {
    "collapsed": true
   },
   "outputs": [],
   "source": [
    "import pandas as pd\n",
    "import nltk\n",
    "import re\n",
    "import math\n",
    "import timeit\n",
    "from numpy import nan\n",
    "import sqlalchemy"
   ]
  },
  {
   "cell_type": "code",
   "execution_count": 79,
   "metadata": {
    "collapsed": true
   },
   "outputs": [],
   "source": [
    "path = \"/Users/nathan/Documents/Stats/Data Analysis/\"\n",
    "destination = \"/Users/nathan/Documents/Stats/SignalDataScience/finalproject/datafiles/\"\n",
    "global debug \n",
    "debug = False\n",
    "database = destination + \"reviews.db\"\n",
    "disk_engine = sqlalchemy.create_engine('sqlite:///' + database)"
   ]
  },
  {
   "cell_type": "code",
   "execution_count": 80,
   "metadata": {
    "collapsed": false
   },
   "outputs": [],
   "source": [
    "def query_db(query, disk_engine):  \n",
    "    start_time = timeit.default_timer()\n",
    "    df = pd.read_sql_query(query, disk_engine)\n",
    "    time_e = round((int(timeit.default_timer() - start_time))/60,2)\n",
    "    print(\"Query time: \", time_e, \"minutes\")\n",
    "    return df"
   ]
  },
  {
   "cell_type": "code",
   "execution_count": 89,
   "metadata": {
    "collapsed": false
   },
   "outputs": [
    {
     "name": "stdout",
     "output_type": "stream",
     "text": [
      "Query time:  0.0 minutes\n",
      "         asin  avg_rating\n",
      "0  0071363424         5.0\n"
     ]
    }
   ],
   "source": [
    "# Make list of target product asins\n",
    "query = \"\"\"\n",
    "SELECT x.asin, AVG(x.overall) as avg_rating FROM (\n",
    " SELECT asin, COUNT(asin) as cnt, overall FROM review_full ) x\n",
    " WHERE cnt>=1 \n",
    " GROUP BY asin\n",
    "\"\"\"\n",
    "\n",
    "target_df = query_db(query, disk_engine)\n",
    "print(target_df.head())\n"
   ]
  },
  {
   "cell_type": "code",
   "execution_count": 87,
   "metadata": {
    "collapsed": false
   },
   "outputs": [
    {
     "name": "stdout",
     "output_type": "stream",
     "text": [
      "Query time:  0.0 minutes\n",
      "         asin  overall   reviewTime      reviewerID  unixReviewTime  \\\n",
      "0  0071317791      1.0  03 25, 2013  A26VWCY8WQ0HK2      1364169600   \n",
      "1  0071317791      5.0  10 12, 2013  A1CLJZB7Q79SLV      1381536000   \n",
      "\n",
      "  reviewerName  vader  avg_rating  \n",
      "0         None  0.000         1.0  \n",
      "1         None  0.068         1.0  \n",
      "1 products included\n"
     ]
    }
   ],
   "source": [
    "# make review_subset table with first 20 reviews for each target asin\n",
    "asin_count = 0\n",
    "for asin in target_df['asin'].tolist():\n",
    "    query = \"SELECT * FROM review_full WHERE asin = '\" + asin + \"' ORDER BY unixReviewTime ASC LIMIT 20\"\n",
    "    temp_df = query_db(query, disk_engine)\n",
    "    temp_df.drop('helpful', axis =1, inplace=True)\n",
    "    avg_rating = target_df.ix[target_df['asin']==asin, 'avg_rating']\n",
    "    temp_df['avg_rating'] = float(avg_rating)\n",
    "    print(temp_df.head())\n",
    "    if debug == True:\n",
    "        temp_df.to_sql('review_subset',\n",
    "                        disk_engine,\n",
    "                        if_exists='replace',\n",
    "                        index= False,\n",
    "                        dtype={'asin':sqlalchemy.types.NVARCHAR(length=10),\n",
    "                         'overall':sqlalchemy.types.INTEGER(),\n",
    "                         'reviewTime':sqlalchemy.NVARCHAR(length=10),\n",
    "                         'reviewerID':sqlalchemy.types.NVARCHAR(length=14),\n",
    "                         'unixReviewTime':sqlalchemy.types.INTEGER(),\n",
    "                         'reviewerName':sqlalchemy.types.NVARCHAR(length=30),\n",
    "                         'vader':sqlalchemy.types.Float(precision=4, asdecimal=True),\n",
    "                         'avg_rating':sqlalchemy.types.Float(precision=3, asdecimal=True)})\n",
    "    else:\n",
    "        temp_df.to_sql('review_subset',\n",
    "                        disk_engine,\n",
    "                        if_exists='append',\n",
    "                        index= False,\n",
    "                        dtype={'asin':sqlalchemy.types.NVARCHAR(length=10),\n",
    "                         'overall':sqlalchemy.types.INTEGER(),\n",
    "                         'reviewTime':sqlalchemy.NVARCHAR(length=10),\n",
    "                         'reviewerID':sqlalchemy.types.NVARCHAR(length=14),\n",
    "                         'unixReviewTime':sqlalchemy.types.INTEGER(),\n",
    "                         'reviewerName':sqlalchemy.types.NVARCHAR(length=30),\n",
    "                         'vader':sqlalchemy.types.Float(precision=4, asdecimal=True),\n",
    "                         'avg_rating':sqlalchemy.types.Float(precision=3, asdecimal=True)})\n",
    "    asin_count += 1\n",
    "\n",
    "print(asin_count, \"products included\")"
   ]
  },
  {
   "cell_type": "code",
   "execution_count": 88,
   "metadata": {
    "collapsed": false
   },
   "outputs": [
    {
     "name": "stdout",
     "output_type": "stream",
     "text": [
      "Query time:  0.03 minutes\n",
      "         asin  overall   reviewTime      reviewerID  unixReviewTime  \\\n",
      "0  0062292129        5  05 21, 2013   AJCHYQCYUGFH5      1369094400   \n",
      "1  0062292129        5  05 21, 2013    AS8AS8YOZNDC      1369094400   \n",
      "2  0062292129        5  05 21, 2013  A1CHB3TM1KJYRE      1369094400   \n",
      "3  0062292129        5  05 21, 2013   A8XZHLFEPB5XC      1369094400   \n",
      "4  0062292129        5  05 21, 2013   AP4F0P1JFJUQL      1369094400   \n",
      "\n",
      "      reviewerName   vader  avg_rating      reviewerID  SUM(reviewerScore)  \n",
      "0           Alicia  2.2922         5.0   AJCHYQCYUGFH5                   0  \n",
      "1  Amazon Customer  2.4674         5.0    AS8AS8YOZNDC                   0  \n",
      "2  Amazon Customer  0.6810         5.0  A1CHB3TM1KJYRE                   0  \n",
      "3  Amazon Customer -0.6342         5.0   A8XZHLFEPB5XC                   0  \n",
      "4            Angie  1.4588         5.0   AP4F0P1JFJUQL                  10  \n"
     ]
    }
   ],
   "source": [
    "# Export review_subset left join on reviewer_scores to csv\n",
    "\n",
    "query = \"\"\"\n",
    "SELECT * FROM (review_subset a\n",
    "LEFT JOIN (SELECT reviewerID, SUM(reviewerScore)\n",
    "FROM reviewer_scores\n",
    "GROUP BY reviewerID\n",
    ") u\n",
    "ON a.reviewerID = u.reviewerID)\n",
    "\"\"\"\n",
    "final_df = query_db(query, disk_engine)\n",
    "print(final_df.head())\n",
    "final_df.to_csv(destination + \"reviewsummary.csv\")"
   ]
  },
  {
   "cell_type": "code",
   "execution_count": null,
   "metadata": {
    "collapsed": true
   },
   "outputs": [],
   "source": []
  },
  {
   "cell_type": "code",
   "execution_count": null,
   "metadata": {
    "collapsed": true
   },
   "outputs": [],
   "source": []
  }
 ],
 "metadata": {
  "kernelspec": {
   "display_name": "Python 3",
   "language": "python",
   "name": "python3"
  },
  "language_info": {
   "codemirror_mode": {
    "name": "ipython",
    "version": 3
   },
   "file_extension": ".py",
   "mimetype": "text/x-python",
   "name": "python",
   "nbconvert_exporter": "python",
   "pygments_lexer": "ipython3",
   "version": "3.5.2"
  }
 },
 "nbformat": 4,
 "nbformat_minor": 1
}
