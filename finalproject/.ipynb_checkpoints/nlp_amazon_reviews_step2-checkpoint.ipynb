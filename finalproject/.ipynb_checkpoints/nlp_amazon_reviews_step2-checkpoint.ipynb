{
 "cells": [
  {
   "cell_type": "code",
   "execution_count": 16,
   "metadata": {
    "collapsed": false
   },
   "outputs": [],
   "source": [
    "import pandas as pd\n",
    "import nltk\n",
    "import re\n",
    "import math\n",
    "import timeit\n",
    "import subprocess\n",
    "import sys\n",
    "import gzip\n",
    "import json"
   ]
  },
  {
   "cell_type": "code",
   "execution_count": 21,
   "metadata": {
    "collapsed": true
   },
   "outputs": [],
   "source": [
    "path = \"/Users/nathan/Documents/Stats/Data Analysis/\"\n",
    "path2 = \"/Users/nathan/Documents/Stats/SignalDataScience/finalproject/\"\n",
    "text_destination = path2 + \"datafiles/\"\n",
    "global debug \n",
    "debug = True    "
   ]
  },
  {
   "cell_type": "code",
   "execution_count": 25,
   "metadata": {
    "collapsed": false
   },
   "outputs": [
    {
     "name": "stdout",
     "output_type": "stream",
     "text": [
      "                                          reviewText        asin   helpful  \\\n",
      "0  Conversations with God Book 1 is the single mo...  0000000078    [1, 1]   \n",
      "1  Interesting Grisham tale of a lawyer that take...  0000000116    [5, 5]   \n",
      "2  The thumbnail is a shirt.  The product shown i...  0000000116    [0, 0]   \n",
      "3  I'll be honest. I work for a large online reta...  0000000868  [10, 10]   \n",
      "4  It had all the songs I wanted but I had ordere...  0000013714    [0, 0]   \n",
      "\n",
      "   overall   reviewTime  unixReviewTime                    summary  \\\n",
      "0      5.0  08 11, 2004      1092182400                 Impactful!   \n",
      "1      4.0  04 27, 2002      1019865600         Show me the money!   \n",
      "2      1.0  03 24, 2014      1395619200  Listing is all screwed up   \n",
      "3      4.0  09 11, 2002      1031702400      Not a Bad Translation   \n",
      "4      4.0  10 31, 2013      1383177600        Not the large print   \n",
      "\n",
      "       reviewerID      reviewerName  \n",
      "0  A3AF8FFZAZYNE5               NaN  \n",
      "1   AH2L9G3DQHHAJ             chris  \n",
      "2  A2IIIDRK3PRRZY            Helene  \n",
      "3  A1TADCM7YWPQ8M          Joel@AWS  \n",
      "4   AWGH7V0BDOJKB  Barbara Marshall  \n",
      "Chunk #  1  saved. Time elapsed:  0.08333333333333333  minutes. Time remaining:  0.08333333333333333\n",
      "                                              reviewText        asin  \\\n",
      "50001  This book is filled with insights on how to ge...  0007183518   \n",
      "50002  I love anything Pema Chodron writes, which doe...  0007183518   \n",
      "50003  My husband died suddenly 6 months ago and I fo...  0007183518   \n",
      "50004  I guess I have to say I just didn't agree with...  0007183518   \n",
      "50005  I gave my first copy away so I had to by anoth...  0007183518   \n",
      "\n",
      "        helpful  overall   reviewTime  unixReviewTime  \\\n",
      "50001    [4, 4]      4.0   08 6, 2012      1344211200   \n",
      "50002    [1, 1]      5.0  12 20, 2012      1355961600   \n",
      "50003  [12, 14]      4.0   10 5, 2005      1128470400   \n",
      "50004    [0, 1]      3.0   04 5, 2013      1365120000   \n",
      "50005    [1, 1]      5.0   01 6, 2014      1388966400   \n",
      "\n",
      "                                               summary  \\\n",
      "50001  Helpful and insightful but at times frustrating   \n",
      "50002                                 Required Reading   \n",
      "50003           A good self-help book for trying times   \n",
      "50004                                          It's ok   \n",
      "50005                                      Second copy   \n",
      "\n",
      "                                 reviewerName     reviewerID  \n",
      "50001                               Mark Bray  AUFU39RCG67YV  \n",
      "50002                       Mars \"Book Lover\"  A5DNDIWL0SW37  \n",
      "50003  Marybethdreamer \"just love to read...\"  AXG673RQ114MA  \n",
      "50004                                    Mary  AQGJ7K3YAGO7G  \n",
      "50005                          Mary Jo Milton  AFOBPNFIIXHIP  \n",
      "Chunk #  2  saved. Time elapsed:  0.16666666666666666  minutes. Time remaining:  0.0\n",
      "                                               reviewText        asin helpful  \\\n",
      "100001  This book really depressed me, the ending ruin...  0007444117  [2, 2]   \n",
      "100002  liked the plot and the way this one was writte...  0007444117  [0, 4]   \n",
      "100003  I have never felt so hard at a book. This seri...  0007444117  [0, 8]   \n",
      "100004  Such a great series! Definitely recommend read...  0007444117  [1, 5]   \n",
      "100005  Worst ending EVER. The author didn't have to e...  0007444117  [4, 5]   \n",
      "\n",
      "        overall   reviewTime  unixReviewTime                    summary  \\\n",
      "100001      3.0  11 11, 2013      1384128000                   a person   \n",
      "100002      5.0  06 22, 2014      1403395200                great twist   \n",
      "100003      5.0  10 26, 2013      1382745600                 Phenomenal   \n",
      "100004      5.0  01 12, 2014      1389484800                    Amazing   \n",
      "100005      1.0  03 15, 2014      1394841600  Don't waste your time!!!!   \n",
      "\n",
      "                       reviewerName      reviewerID  \n",
      "100001                           hi   AA5V06C9XIMSB  \n",
      "100002      Hiking mom \"Hiking mom\"  A3JZYMG9I4A7LV  \n",
      "100003             Hilary Gladstone   AWREVSCD0UWIX  \n",
      "100004                       Hilary  A2WF8QKEVJGC9T  \n",
      "100005  hi lb pc plz cggg :) ivy on  A2OOIJ7ZL974NJ  \n",
      "Chunk #  3  saved. Time elapsed:  0.25  minutes. Time remaining:  -0.08333333333333333\n",
      "Last Chunk #  3 Total time elapsed:  0.25  minutes\n"
     ]
    }
   ],
   "source": [
    "# Process the amazon review text\n",
    "\n",
    "\n",
    "def parse(path):\n",
    "    g = gzip.open(path + 'item_dedup.json.gz', 'rb')\n",
    "    for l in g:\n",
    "        yield eval(l)\n",
    "\n",
    "\n",
    "def Load_Review_Chunk(path, destination, chunksize, start_chunk, end_chunk):\n",
    "    start_time = timeit.default_timer()\n",
    "    dfDict = {}\n",
    "    i = 0\n",
    "    chunk = start_chunk\n",
    "    total_chunks = end_chunk - start_chunk\n",
    "    # max_chunks = (82680000/chunksize)\n",
    "    for d in parse(path):\n",
    "        dfDict[i] = d\n",
    "        i += 1\n",
    "        if i > chunksize * chunk:\n",
    "            # save via function\n",
    "            review_to_csv(dfDict, destination + \"chunk\" + str(chunk) + \".csv\")\n",
    "            time_e = int(timeit.default_timer() - start_time)\n",
    "            time_rem = (time_e * total_chunks / chunk) - time_e\n",
    "            sys.stdout.flush()\n",
    "            print(\"Chunk # \", chunk, \" saved. Time elapsed: \", time_e/60, \" minutes. Time remaining: \", time_rem/60)\n",
    "            dfDict = {}\n",
    "            if chunk == end_chunk: break\n",
    "            chunk += 1\n",
    "    # last save via function if needed\n",
    "    if len(dfDict)>0:\n",
    "        review_to_csv(dfDict, destination + \"finalchunk.csv\")\n",
    "        chunk += 1\n",
    "    print(\"Last Chunk # \", chunk, \"Total time elapsed: \", int(timeit.default_timer() - start_time) / 60, \" minutes\")\n",
    "    return\n",
    "\n",
    "def review_to_df(dfDict, destination):\n",
    "    # cols: reviewer_id, item_id (asin), helpful\n",
    "    temp_df = pd.DataFrame.from_dict(dfDict, orient='index')\n",
    "    if debug == True:\n",
    "        print(df.head())\n",
    "    # col_list = ['reviewerID', 'asin', 'reviewText','overall', 'unixReviewTime']\n",
    "    #drop_list = ['helpful', 'reviewerName', 'summary', 'reviewTime']\n",
    "    #for drop in drop_list:\n",
    "    #    try:\n",
    "    #        temp_df.drop(drop, axis=1, inplace = True)\n",
    "    #    except:\n",
    "    #        print(\"missing column found: \", drop)\n",
    "    return pd.concat([destination, temp_df], ignore_index=True)\n",
    "\n",
    "def review_to_csv(dfDict, destination):\n",
    "    # cols: reviewer_id, item_id (asin), helpful\n",
    "    df = pd.DataFrame.from_dict(dfDict, orient='index')\n",
    "    if debug == True:\n",
    "        print(df.head())\n",
    "    # col_list = ['reviewerID', 'asin', 'reviewText','overall', 'unixReviewTime']\n",
    "    # df.drop(['helpful', 'reviewerName', 'summary', 'reviewTime'], axis=1, inplace = True)\n",
    "    df.to_csv(destination , header = True, sep='~', index=False)\n",
    "    return True\n",
    "  \n",
    "\n",
    " \n",
    "Load_Review_Chunk(path, text_destination, chunksize = 50000, start_chunk = 1, end_chunk = 3)\n"
   ]
  },
  {
   "cell_type": "code",
   "execution_count": 35,
   "metadata": {
    "collapsed": false,
    "scrolled": true
   },
   "outputs": [
    {
     "ename": "ValueError",
     "evalue": "Shape of passed values is (1, 1), indices imply (4, 1)",
     "output_type": "error",
     "traceback": [
      "\u001b[0;31m---------------------------------------------------------------------------\u001b[0m",
      "\u001b[0;31mValueError\u001b[0m                                Traceback (most recent call last)",
      "\u001b[0;32m/Users/nathan/.pyenv/versions/3.5.2/envs/stats/lib/python3.5/site-packages/pandas/core/internals.py\u001b[0m in \u001b[0;36mcreate_block_manager_from_blocks\u001b[0;34m(blocks, axes)\u001b[0m\n\u001b[1;32m   3983\u001b[0m                 blocks = [make_block(values=blocks[0],\n\u001b[0;32m-> 3984\u001b[0;31m                                      placement=slice(0, len(axes[0])))]\n\u001b[0m\u001b[1;32m   3985\u001b[0m \u001b[0;34m\u001b[0m\u001b[0m\n",
      "\u001b[0;32m/Users/nathan/.pyenv/versions/3.5.2/envs/stats/lib/python3.5/site-packages/pandas/core/internals.py\u001b[0m in \u001b[0;36mmake_block\u001b[0;34m(values, placement, klass, ndim, dtype, fastpath)\u001b[0m\n\u001b[1;32m   2517\u001b[0m \u001b[0;34m\u001b[0m\u001b[0m\n\u001b[0;32m-> 2518\u001b[0;31m     \u001b[0;32mreturn\u001b[0m \u001b[0mklass\u001b[0m\u001b[0;34m(\u001b[0m\u001b[0mvalues\u001b[0m\u001b[0;34m,\u001b[0m \u001b[0mndim\u001b[0m\u001b[0;34m=\u001b[0m\u001b[0mndim\u001b[0m\u001b[0;34m,\u001b[0m \u001b[0mfastpath\u001b[0m\u001b[0;34m=\u001b[0m\u001b[0mfastpath\u001b[0m\u001b[0;34m,\u001b[0m \u001b[0mplacement\u001b[0m\u001b[0;34m=\u001b[0m\u001b[0mplacement\u001b[0m\u001b[0;34m)\u001b[0m\u001b[0;34m\u001b[0m\u001b[0m\n\u001b[0m\u001b[1;32m   2519\u001b[0m \u001b[0;34m\u001b[0m\u001b[0m\n",
      "\u001b[0;32m/Users/nathan/.pyenv/versions/3.5.2/envs/stats/lib/python3.5/site-packages/pandas/core/internals.py\u001b[0m in \u001b[0;36m__init__\u001b[0;34m(self, values, ndim, fastpath, placement, **kwargs)\u001b[0m\n\u001b[1;32m   1662\u001b[0m         super(ObjectBlock, self).__init__(values, ndim=ndim, fastpath=fastpath,\n\u001b[0;32m-> 1663\u001b[0;31m                                           placement=placement, **kwargs)\n\u001b[0m\u001b[1;32m   1664\u001b[0m \u001b[0;34m\u001b[0m\u001b[0m\n",
      "\u001b[0;32m/Users/nathan/.pyenv/versions/3.5.2/envs/stats/lib/python3.5/site-packages/pandas/core/internals.py\u001b[0m in \u001b[0;36m__init__\u001b[0;34m(self, values, placement, ndim, fastpath)\u001b[0m\n\u001b[1;32m     89\u001b[0m                              'implies %d' % (len(self.values),\n\u001b[0;32m---> 90\u001b[0;31m                                              len(self.mgr_locs)))\n\u001b[0m\u001b[1;32m     91\u001b[0m \u001b[0;34m\u001b[0m\u001b[0m\n",
      "\u001b[0;31mValueError\u001b[0m: Wrong number of items passed 1, placement implies 4",
      "\nDuring handling of the above exception, another exception occurred:\n",
      "\u001b[0;31mValueError\u001b[0m                                Traceback (most recent call last)",
      "\u001b[0;32m<ipython-input-35-7c3ada842f6f>\u001b[0m in \u001b[0;36m<module>\u001b[0;34m()\u001b[0m\n\u001b[1;32m     14\u001b[0m     \u001b[0;32mwith\u001b[0m \u001b[0mopen\u001b[0m\u001b[0;34m(\u001b[0m\u001b[0mpath\u001b[0m\u001b[0;34m+\u001b[0m\u001b[0;34m\"tmp2/chunk\"\u001b[0m \u001b[0;34m+\u001b[0m \u001b[0mstr\u001b[0m\u001b[0;34m(\u001b[0m\u001b[0mi\u001b[0m\u001b[0;34m)\u001b[0m \u001b[0;34m+\u001b[0m \u001b[0;34m\".csv\"\u001b[0m\u001b[0;34m)\u001b[0m \u001b[0;32mas\u001b[0m \u001b[0mcsv_file\u001b[0m\u001b[0;34m:\u001b[0m\u001b[0;34m\u001b[0m\u001b[0m\n\u001b[1;32m     15\u001b[0m         \u001b[0mhopeful_lump\u001b[0m \u001b[0;34m=\u001b[0m \u001b[0mcsv_file\u001b[0m\u001b[0;34m.\u001b[0m\u001b[0mread\u001b[0m\u001b[0;34m(\u001b[0m\u001b[0;34m)\u001b[0m\u001b[0;34m.\u001b[0m\u001b[0msplit\u001b[0m\u001b[0;34m(\u001b[0m\u001b[0;34m\"/n\"\u001b[0m\u001b[0;34m)\u001b[0m\u001b[0;34m\u001b[0m\u001b[0m\n\u001b[0;32m---> 16\u001b[0;31m     \u001b[0mtemp_df\u001b[0m \u001b[0;34m=\u001b[0m \u001b[0mpd\u001b[0m\u001b[0;34m.\u001b[0m\u001b[0mDataFrame\u001b[0m\u001b[0;34m(\u001b[0m\u001b[0mhopeful_lump\u001b[0m\u001b[0;34m[\u001b[0m\u001b[0;36m4\u001b[0m\u001b[0;34m:\u001b[0m\u001b[0;34m]\u001b[0m\u001b[0;34m,\u001b[0m \u001b[0mcolumns\u001b[0m\u001b[0;34m=\u001b[0m\u001b[0mhopeful_lump\u001b[0m\u001b[0;34m[\u001b[0m\u001b[0;34m:\u001b[0m\u001b[0;36m4\u001b[0m\u001b[0;34m]\u001b[0m\u001b[0;34m)\u001b[0m\u001b[0;34m\u001b[0m\u001b[0m\n\u001b[0m\u001b[1;32m     17\u001b[0m     \u001b[0mdf\u001b[0m \u001b[0;34m=\u001b[0m \u001b[0mpd\u001b[0m\u001b[0;34m.\u001b[0m\u001b[0mconcat\u001b[0m\u001b[0;34m(\u001b[0m\u001b[0;34m[\u001b[0m\u001b[0mdf\u001b[0m\u001b[0;34m,\u001b[0m \u001b[0mtemp_df\u001b[0m\u001b[0;34m]\u001b[0m\u001b[0;34m,\u001b[0m \u001b[0mignore_index\u001b[0m\u001b[0;34m=\u001b[0m\u001b[0;32mTrue\u001b[0m\u001b[0;34m)\u001b[0m\u001b[0;34m\u001b[0m\u001b[0m\n\u001b[1;32m     18\u001b[0m \u001b[0;34m\u001b[0m\u001b[0m\n",
      "\u001b[0;32m/Users/nathan/.pyenv/versions/3.5.2/envs/stats/lib/python3.5/site-packages/pandas/core/frame.py\u001b[0m in \u001b[0;36m__init__\u001b[0;34m(self, data, index, columns, dtype, copy)\u001b[0m\n\u001b[1;32m    277\u001b[0m                 \u001b[0;32melse\u001b[0m\u001b[0;34m:\u001b[0m\u001b[0;34m\u001b[0m\u001b[0m\n\u001b[1;32m    278\u001b[0m                     mgr = self._init_ndarray(data, index, columns, dtype=dtype,\n\u001b[0;32m--> 279\u001b[0;31m                                              copy=copy)\n\u001b[0m\u001b[1;32m    280\u001b[0m             \u001b[0;32melse\u001b[0m\u001b[0;34m:\u001b[0m\u001b[0;34m\u001b[0m\u001b[0m\n\u001b[1;32m    281\u001b[0m                 \u001b[0mmgr\u001b[0m \u001b[0;34m=\u001b[0m \u001b[0mself\u001b[0m\u001b[0;34m.\u001b[0m\u001b[0m_init_dict\u001b[0m\u001b[0;34m(\u001b[0m\u001b[0;34m{\u001b[0m\u001b[0;34m}\u001b[0m\u001b[0;34m,\u001b[0m \u001b[0mindex\u001b[0m\u001b[0;34m,\u001b[0m \u001b[0mcolumns\u001b[0m\u001b[0;34m,\u001b[0m \u001b[0mdtype\u001b[0m\u001b[0;34m=\u001b[0m\u001b[0mdtype\u001b[0m\u001b[0;34m)\u001b[0m\u001b[0;34m\u001b[0m\u001b[0m\n",
      "\u001b[0;32m/Users/nathan/.pyenv/versions/3.5.2/envs/stats/lib/python3.5/site-packages/pandas/core/frame.py\u001b[0m in \u001b[0;36m_init_ndarray\u001b[0;34m(self, values, index, columns, dtype, copy)\u001b[0m\n\u001b[1;32m    430\u001b[0m             \u001b[0mvalues\u001b[0m \u001b[0;34m=\u001b[0m \u001b[0m_possibly_infer_to_datetimelike\u001b[0m\u001b[0;34m(\u001b[0m\u001b[0mvalues\u001b[0m\u001b[0;34m)\u001b[0m\u001b[0;34m\u001b[0m\u001b[0m\n\u001b[1;32m    431\u001b[0m \u001b[0;34m\u001b[0m\u001b[0m\n\u001b[0;32m--> 432\u001b[0;31m         \u001b[0;32mreturn\u001b[0m \u001b[0mcreate_block_manager_from_blocks\u001b[0m\u001b[0;34m(\u001b[0m\u001b[0;34m[\u001b[0m\u001b[0mvalues\u001b[0m\u001b[0;34m]\u001b[0m\u001b[0;34m,\u001b[0m \u001b[0;34m[\u001b[0m\u001b[0mcolumns\u001b[0m\u001b[0;34m,\u001b[0m \u001b[0mindex\u001b[0m\u001b[0;34m]\u001b[0m\u001b[0;34m)\u001b[0m\u001b[0;34m\u001b[0m\u001b[0m\n\u001b[0m\u001b[1;32m    433\u001b[0m \u001b[0;34m\u001b[0m\u001b[0m\n\u001b[1;32m    434\u001b[0m     \u001b[0;34m@\u001b[0m\u001b[0mproperty\u001b[0m\u001b[0;34m\u001b[0m\u001b[0m\n",
      "\u001b[0;32m/Users/nathan/.pyenv/versions/3.5.2/envs/stats/lib/python3.5/site-packages/pandas/core/internals.py\u001b[0m in \u001b[0;36mcreate_block_manager_from_blocks\u001b[0;34m(blocks, axes)\u001b[0m\n\u001b[1;32m   3991\u001b[0m         \u001b[0mblocks\u001b[0m \u001b[0;34m=\u001b[0m \u001b[0;34m[\u001b[0m\u001b[0mgetattr\u001b[0m\u001b[0;34m(\u001b[0m\u001b[0mb\u001b[0m\u001b[0;34m,\u001b[0m \u001b[0;34m'values'\u001b[0m\u001b[0;34m,\u001b[0m \u001b[0mb\u001b[0m\u001b[0;34m)\u001b[0m \u001b[0;32mfor\u001b[0m \u001b[0mb\u001b[0m \u001b[0;32min\u001b[0m \u001b[0mblocks\u001b[0m\u001b[0;34m]\u001b[0m\u001b[0;34m\u001b[0m\u001b[0m\n\u001b[1;32m   3992\u001b[0m         \u001b[0mtot_items\u001b[0m \u001b[0;34m=\u001b[0m \u001b[0msum\u001b[0m\u001b[0;34m(\u001b[0m\u001b[0mb\u001b[0m\u001b[0;34m.\u001b[0m\u001b[0mshape\u001b[0m\u001b[0;34m[\u001b[0m\u001b[0;36m0\u001b[0m\u001b[0;34m]\u001b[0m \u001b[0;32mfor\u001b[0m \u001b[0mb\u001b[0m \u001b[0;32min\u001b[0m \u001b[0mblocks\u001b[0m\u001b[0;34m)\u001b[0m\u001b[0;34m\u001b[0m\u001b[0m\n\u001b[0;32m-> 3993\u001b[0;31m         \u001b[0mconstruction_error\u001b[0m\u001b[0;34m(\u001b[0m\u001b[0mtot_items\u001b[0m\u001b[0;34m,\u001b[0m \u001b[0mblocks\u001b[0m\u001b[0;34m[\u001b[0m\u001b[0;36m0\u001b[0m\u001b[0;34m]\u001b[0m\u001b[0;34m.\u001b[0m\u001b[0mshape\u001b[0m\u001b[0;34m[\u001b[0m\u001b[0;36m1\u001b[0m\u001b[0;34m:\u001b[0m\u001b[0;34m]\u001b[0m\u001b[0;34m,\u001b[0m \u001b[0maxes\u001b[0m\u001b[0;34m,\u001b[0m \u001b[0me\u001b[0m\u001b[0;34m)\u001b[0m\u001b[0;34m\u001b[0m\u001b[0m\n\u001b[0m\u001b[1;32m   3994\u001b[0m \u001b[0;34m\u001b[0m\u001b[0m\n\u001b[1;32m   3995\u001b[0m \u001b[0;34m\u001b[0m\u001b[0m\n",
      "\u001b[0;32m/Users/nathan/.pyenv/versions/3.5.2/envs/stats/lib/python3.5/site-packages/pandas/core/internals.py\u001b[0m in \u001b[0;36mconstruction_error\u001b[0;34m(tot_items, block_shape, axes, e)\u001b[0m\n\u001b[1;32m   3968\u001b[0m         \u001b[0;32mraise\u001b[0m \u001b[0mValueError\u001b[0m\u001b[0;34m(\u001b[0m\u001b[0;34m\"Empty data passed with indices specified.\"\u001b[0m\u001b[0;34m)\u001b[0m\u001b[0;34m\u001b[0m\u001b[0m\n\u001b[1;32m   3969\u001b[0m     raise ValueError(\"Shape of passed values is {0}, indices imply {1}\".format(\n\u001b[0;32m-> 3970\u001b[0;31m         passed, implied))\n\u001b[0m\u001b[1;32m   3971\u001b[0m \u001b[0;34m\u001b[0m\u001b[0m\n\u001b[1;32m   3972\u001b[0m \u001b[0;34m\u001b[0m\u001b[0m\n",
      "\u001b[0;31mValueError\u001b[0m: Shape of passed values is (1, 1), indices imply (4, 1)"
     ]
    }
   ],
   "source": [
    "# Load data, see if I can hold it all in memory at once\n",
    "\n",
    "# Edge case: first file - make dataframe\n",
    "path2 = \"/Users/nathan/Documents/Stats/SignalDataScience/finalproject/\"\n",
    "try_num = 1\n",
    "n = 16003\n",
    "if debug == True: n = 3\n",
    "\n",
    "with open(path+\"tmp2/chunk\" + str(try_num) + \".csv\") as csv_file:\n",
    "    hopeful_lump = csv_file.read().split(\"/n\")\n",
    "df = pd.DataFrame(hopeful_lump[4:], columns=hopeful_lump[:4])\n",
    "# All other files: loop through and append to dataframe\n",
    "for i in range(try_num+1,n+1):\n",
    "    with open(path+\"tmp2/chunk\" + str(i) + \".csv\") as csv_file:\n",
    "        hopeful_lump = csv_file.read().split(\"/n\")\n",
    "    temp_df = pd.DataFrame(hopeful_lump[4:], columns=hopeful_lump[:4])\n",
    "    df = pd.concat([df, temp_df], ignore_index=True)\n",
    "\n",
    "# Save combined masterfile\n",
    "df.to_csv(\"master_reviewtext.csv\", sep='\\n', index=False)\n",
    "print(df.head())\n"
   ]
  },
  {
   "cell_type": "code",
   "execution_count": 15,
   "metadata": {
    "collapsed": false
   },
   "outputs": [
    {
     "ename": "FileNotFoundError",
     "evalue": "[Errno 2] No such file or directory: '/Users/nathan/Documents/Stats/Data\\\\ Analysis/item_dedup.json'",
     "output_type": "error",
     "traceback": [
      "\u001b[0;31m---------------------------------------------------------------------------\u001b[0m",
      "\u001b[0;31mFileNotFoundError\u001b[0m                         Traceback (most recent call last)",
      "\u001b[0;32m<ipython-input-15-6968e5be6278>\u001b[0m in \u001b[0;36m<module>\u001b[0;34m()\u001b[0m\n\u001b[1;32m      1\u001b[0m \u001b[0mpath\u001b[0m \u001b[0;34m=\u001b[0m \u001b[0;34m\"/Users/nathan/Documents/Stats/Data\\ Analysis/\"\u001b[0m\u001b[0;34m\u001b[0m\u001b[0m\n\u001b[0;32m----> 2\u001b[0;31m \u001b[0;32mwith\u001b[0m \u001b[0mopen\u001b[0m\u001b[0;34m(\u001b[0m\u001b[0mpath\u001b[0m\u001b[0;34m+\u001b[0m\u001b[0;34m\"item_dedup.json\"\u001b[0m\u001b[0;34m,\u001b[0m \u001b[0;34m'r'\u001b[0m\u001b[0;34m)\u001b[0m \u001b[0;32mas\u001b[0m \u001b[0mfile\u001b[0m\u001b[0;34m:\u001b[0m\u001b[0;34m\u001b[0m\u001b[0m\n\u001b[0m\u001b[1;32m      3\u001b[0m     \u001b[0mtext\u001b[0m \u001b[0;34m=\u001b[0m \u001b[0mfile\u001b[0m\u001b[0;34m.\u001b[0m\u001b[0mread\u001b[0m\u001b[0;34m(\u001b[0m\u001b[0;34m)\u001b[0m\u001b[0;34m\u001b[0m\u001b[0m\n\u001b[1;32m      4\u001b[0m \u001b[0mdf\u001b[0m \u001b[0;34m=\u001b[0m \u001b[0mpd\u001b[0m\u001b[0;34m.\u001b[0m\u001b[0mread_json\u001b[0m\u001b[0;34m(\u001b[0m\u001b[0;34m'[%s]'\u001b[0m \u001b[0;34m%\u001b[0m \u001b[0;34m','\u001b[0m\u001b[0;34m.\u001b[0m\u001b[0mjoin\u001b[0m\u001b[0;34m(\u001b[0m\u001b[0mtext\u001b[0m\u001b[0;34m.\u001b[0m\u001b[0msplitlines\u001b[0m\u001b[0;34m(\u001b[0m\u001b[0;34m)\u001b[0m\u001b[0;34m)\u001b[0m\u001b[0;34m)\u001b[0m\u001b[0;34m\u001b[0m\u001b[0m\n",
      "\u001b[0;31mFileNotFoundError\u001b[0m: [Errno 2] No such file or directory: '/Users/nathan/Documents/Stats/Data\\\\ Analysis/item_dedup.json'"
     ]
    }
   ],
   "source": [
    "path = \"/Users/nathan/Documents/Stats/Data Analysis/\"\n",
    "with open(path+\"item_dedup.json\", 'r') as file:\n",
    "    for line in file:\n",
    "        \n",
    "df = pd.read_json('[%s]' % ','.join(text.splitlines()))"
   ]
  },
  {
   "cell_type": "code",
   "execution_count": 4,
   "metadata": {
    "collapsed": false
   },
   "outputs": [
    {
     "name": "stdout",
     "output_type": "stream",
     "text": [
      "2\n"
     ]
    }
   ],
   "source": [
    "# Make new table with just the first 20 chronological reviews for only products with at least 1000 reviews\n"
   ]
  },
  {
   "cell_type": "code",
   "execution_count": 3,
   "metadata": {
    "collapsed": true
   },
   "outputs": [],
   "source": [
    "?pd.read_json\n",
    "\n"
   ]
  },
  {
   "cell_type": "code",
   "execution_count": null,
   "metadata": {
    "collapsed": true
   },
   "outputs": [],
   "source": []
  }
 ],
 "metadata": {
  "kernelspec": {
   "display_name": "Python 3",
   "language": "python",
   "name": "python3"
  },
  "language_info": {
   "codemirror_mode": {
    "name": "ipython",
    "version": 3
   },
   "file_extension": ".py",
   "mimetype": "text/x-python",
   "name": "python",
   "nbconvert_exporter": "python",
   "pygments_lexer": "ipython3",
   "version": "3.5.2"
  }
 },
 "nbformat": 4,
 "nbformat_minor": 1
}
