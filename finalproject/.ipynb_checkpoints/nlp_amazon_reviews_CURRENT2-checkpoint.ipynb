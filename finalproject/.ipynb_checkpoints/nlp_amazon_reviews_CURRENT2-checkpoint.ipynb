{
 "cells": [
  {
   "cell_type": "code",
   "execution_count": 12,
   "metadata": {
    "collapsed": true
   },
   "outputs": [],
   "source": [
    "import pandas as pd\n",
    "import nltk\n",
    "import re\n",
    "import math\n",
    "import timeit\n",
    "from numpy import nan\n",
    "import sqlalchemy"
   ]
  },
  {
   "cell_type": "code",
   "execution_count": 13,
   "metadata": {
    "collapsed": true
   },
   "outputs": [],
   "source": [
    "path = \"/Users/nathan/Documents/Stats/Data Analysis/\"\n",
    "destination = \"/Users/nathan/Documents/Stats/SignalDataScience/finalproject/datafiles/\"\n",
    "global debug \n",
    "debug = False\n",
    "database = destination + \"reviews.db\"\n",
    "disk_engine = sqlalchemy.create_engine('sqlite:///' + database)"
   ]
  },
  {
   "cell_type": "code",
   "execution_count": 14,
   "metadata": {
    "collapsed": false
   },
   "outputs": [],
   "source": [
    "def query_db(query, disk_engine):  \n",
    "    start_time = timeit.default_timer()\n",
    "    df = pd.read_sql_query(query, disk_engine)\n",
    "    time_e = round((int(timeit.default_timer() - start_time))/60,2)\n",
    "    if debug == True:\n",
    "        print(\"\\rQuery time: \", time_e, \"minutes\", end=\"\")\n",
    "    return df"
   ]
  },
  {
   "cell_type": "code",
   "execution_count": 15,
   "metadata": {
    "collapsed": false
   },
   "outputs": [
    {
     "name": "stdout",
     "output_type": "stream",
     "text": [
      "(6684, 3) \n",
      "          asin  avg_rating    cnt\n",
      "0  0000031887         5.0   3776\n",
      "1  000100039X         5.0   8576\n",
      "2  0002007770         3.0  51281\n",
      "3  0002051850         5.0   3408\n",
      "4  000215725X         3.0    656\n"
     ]
    }
   ],
   "source": [
    "# Make list of target product asins\n",
    "query = \"\"\"\n",
    "SELECT x.asin, AVG(x.overall) as avg_rating, cnt FROM (\n",
    " SELECT asin, COUNT(asin) as cnt, overall \n",
    " FROM review_full \n",
    " GROUP BY asin\n",
    " ) x\n",
    " WHERE cnt>=500 \n",
    " GROUP BY asin\n",
    "\"\"\"\n",
    "\n",
    "target_df = query_db(query, disk_engine)\n",
    "print(target_df.shape,\"\\n\", target_df.head())\n",
    "# I am arbitrarily picking my cutoff for \"how many reviews a product must have\"\n",
    "# A better solution: look at when avg rating stabilizes (mostly) and choose that.\n",
    "# Or at when sorting into 4+ star vs <4 star stabilizes"
   ]
  },
  {
   "cell_type": "code",
   "execution_count": null,
   "metadata": {
    "collapsed": false
   },
   "outputs": [],
   "source": [
    "query = \"\"\"\n",
    "select *, (\n",
    "select count(*) from review_full as y \n",
    "where x.asin = y.asin & \n",
    "x.unixReviewTime >= y.unixReviewTime) as rownum \n",
    "from review_full as x WHERE rownum <= 40\n",
    "\"\"\"\n",
    "\n",
    "\"\"\"\n",
    "select product, row_number, unixReviewTime\n",
    "from review_full\n",
    "ORDER BY unixReviewTime ASC LIMIT 40\n",
    "\n",
    "\n",
    "\n",
    "\"\"\"\n",
    "# hashtable for lookup\n",
    "test_df = query_db(query, disk_engine)\n",
    "print(test_df.shape)\n"
   ]
  },
  {
   "cell_type": "code",
   "execution_count": 5,
   "metadata": {
    "collapsed": false
   },
   "outputs": [
    {
     "name": "stdout",
     "output_type": "stream",
     "text": [
      "(1, 1) \n",
      "    count(*)\n",
      "0         0\n"
     ]
    }
   ],
   "source": [
    "query = \"\"\"select count(*) from review_full as y \n",
    "where '0000031887' = y.asin & \n",
    "1260662401 >= y.unixReviewTime\"\"\"\n",
    "query2 = \"SELECT * FROM review_full WHERE asin = '0000031887'\"\n",
    "test_df = query_db(query, disk_engine)\n",
    "print(test_df.shape, \"\\n\", test_df.head())"
   ]
  },
  {
   "cell_type": "code",
   "execution_count": 7,
   "metadata": {
    "collapsed": false
   },
   "outputs": [
    {
     "name": "stdout",
     "output_type": "stream",
     "text": [
      "(0, 4) \n",
      " Empty DataFrame\n",
      "Columns: [reviewerID, overall, unixReviewTime, vader]\n",
      "Index: []\n"
     ]
    }
   ],
   "source": [
    "q_piece1 = \"\"\"\n",
    "SELECT \n",
    "reviewerID,\n",
    "overall,\n",
    "unixReviewTime,\n",
    "vader\n",
    "FROM review_full \n",
    "WHERE asin = '\n",
    "\"\"\"\n",
    "q_piece2 = \"' ORDER BY unixReviewTime LIMIT 40\"\n",
    "asin = '0000031887'\n",
    "query =  q_piece1 + asin + q_piece2\n",
    "test_df = query_db(query, disk_engine)\n",
    "print(test_df.shape, \"\\n\", test_df.head())\n"
   ]
  },
  {
   "cell_type": "code",
   "execution_count": 22,
   "metadata": {
    "collapsed": false
   },
   "outputs": [
    {
     "name": "stdout",
     "output_type": "stream",
     "text": [
      " 2 products included. Product review number= (40, 6) 000100039X<bound method NDFrame.head of           asin      reviewerID  overall  unixReviewTime   vader  avg_rating\n",
      "0   0000031887  A1M7MWBQJEJWLY      5.0      1260662400  1.7112         5.0\n",
      "1   0000031887  A3Q6CTO56DJ8UZ      4.0      1268697600  0.7826         5.0\n",
      "2   0000031887  A338UR0Q3EG733      5.0      1278979200  1.6036         5.0\n",
      "3   0000031887  A3H1W0DWLW5DLH      5.0      1286668800  1.2190         5.0\n",
      "4   0000031887  A212HMSQUF21Z5      5.0      1293408000  1.5164         5.0\n",
      "5   0000031887   AQ2NZ5X891VX1      5.0      1295308800  2.0971         5.0\n",
      "6   0000031887  A2NXWW4QCL1EU1      5.0      1296604800  1.9701         5.0\n",
      "7   0000031887  A12OFS8WQP86O5      5.0      1297123200  4.1629         5.0\n",
      "8   0000031887  A1KLRMWW2FWPL4      5.0      1297468800  1.4596         5.0\n",
      "9   0000031887  A3SBYCJ5VZQ63O      4.0      1298332800  0.2913         5.0\n",
      "10  0000031887  A133IR93TLOVP2      2.0      1304208000 -0.0915         5.0\n",
      "11  0000031887  A25XPBOOCRNZRL      5.0      1309392000  1.3305         5.0\n",
      "12  0000031887   AFQQ45LMEK5BX      5.0      1311379200  1.8623         5.0\n",
      "13  0000031887  A391EXIT5TFP72      5.0      1321056000  1.0401         5.0\n",
      "14  0000031887   AEIOS4PFEY8B8      3.0      1322265600  1.2843         5.0\n",
      "15  0000031887   AQX47Z9L6637G      5.0      1323561600  1.8945         5.0\n",
      "16  0000031887  A1BRPZYSTVCZLS      1.0      1323993600 -0.6926         5.0\n",
      "17  0000031887   ABJ9MRE79N0A1      5.0      1324425600  2.1886         5.0\n",
      "18  0000031887  A36QXSHZCUC7VY      4.0      1325376000  1.2522         5.0\n",
      "19  0000031887  A2LR2PAE5YNP65      5.0      1326067200  1.3890         5.0\n",
      "20  0000031887  A2G0LNLN79Q6HR      4.0      1337990400  1.2110         5.0\n",
      "21  0000031887  A3S51SY6L4RKHY      5.0      1340755200  2.0223         5.0\n",
      "22  0000031887  A2TVSGUKDUT8HE      5.0      1345507200  1.3506         5.0\n",
      "23  0000031887  A2EKHP38KG3ZV2      5.0      1347321600  0.7264         5.0\n",
      "24  0000031887  A3DIEB054V8KQO      5.0      1348012800  2.5313         5.0\n",
      "25  0000031887   A3EERSWHAI6SO      5.0      1349568000  3.0598         5.0\n",
      "26  0000031887   AIYX758V2D0UB      5.0      1350518400  1.5539         5.0\n",
      "27  0000031887  A1MYJDE1JEKLHX      4.0      1351036800  0.8885         5.0\n",
      "28  0000031887  A2SX7X8QGQVCJU      5.0      1351036800  1.4313         5.0\n",
      "29  0000031887  A25KV0BO428QJJ      5.0      1351728000  1.6657         5.0\n",
      "..         ...             ...      ...             ...     ...         ...\n",
      "10  000100039X   AKZHWD443PALF      5.0       947462400  0.6124         5.0\n",
      "11  000100039X  A3G3KFIT9C7T2S      5.0       949536000  4.3631         5.0\n",
      "12  000100039X  A36OA2VHD295XA      5.0       950227200  1.5839         5.0\n",
      "13  000100039X   AMFSDTN7LJ4EM      5.0       951004800  0.9981         5.0\n",
      "14  000100039X  A2AYZ119ILGZ8M      5.0       951350400  2.5356         5.0\n",
      "15  000100039X  A15ACUAJEJXCS3      5.0       957312000  1.8059         5.0\n",
      "16  000100039X  A3CINOZKBEFMAF      5.0       957312000  1.1469         5.0\n",
      "17  000100039X  A3W43PSHRIG8KV      4.0       957571200  2.8745         5.0\n",
      "18  000100039X  A1XLZQ205ZAC7L      5.0       959644800  2.8131         5.0\n",
      "19  000100039X  A25P6DY6ARTCGZ      5.0       959817600  0.7115         5.0\n",
      "20  000100039X  A1OY66GIJTJ3UH      5.0       960163200  2.7814         5.0\n",
      "21  000100039X  A1NPNGWBVD9AK3      5.0       961804800  2.7905         5.0\n",
      "22  000100039X   AENNW2G826191      3.0       963446400  1.0127         5.0\n",
      "23  000100039X  A1JYPDFD8QQLSC      5.0       965865600  2.3504         5.0\n",
      "24  000100039X  A1TR1LU2JSZLUL      5.0       969148800 -0.9440         5.0\n",
      "25  000100039X  A34GJPYSOGMQ35      4.0       969408000 -2.1181         5.0\n",
      "26  000100039X  A372UKGN0YXF6L      5.0       971913600  0.6582         5.0\n",
      "27  000100039X  A2Q41ZN25XIU8Q      5.0       973036800  1.2038         5.0\n",
      "28  000100039X  A2052JNVUPRTMT      5.0       973814400  3.5117         5.0\n",
      "29  000100039X   ASNP7RXRZFQAA      5.0       977788800  0.8295         5.0\n",
      "30  000100039X  A11TYILTAFKPR3      5.0       978480000  1.8495         5.0\n",
      "31  000100039X  A1K1JW1C5CUSUZ      5.0       980380800  6.7083         5.0\n",
      "32  000100039X   AACTGYBJPRGM6      5.0       981331200  1.6002         5.0\n",
      "33  000100039X  A2X44AITMRTNC4      5.0       981676800  3.3929         5.0\n",
      "34  000100039X  A26GKZPS079GFF      5.0       982972800  0.6369         5.0\n",
      "35  000100039X  A2I35JB67U20C0      5.0       983318400  0.9068         5.0\n",
      "36  000100039X   AD4P3A4RHAZLM      5.0       985046400  0.9010         5.0\n",
      "37  000100039X  A1UYE5C8VH3314      4.0       988934400  5.8332         5.0\n",
      "38  000100039X  A1IE6HLKMQO7GD      5.0       989712000  1.1922         5.0\n",
      "39  000100039X  A393EJD130USD6      5.0       992908800  1.6980         5.0\n",
      "\n",
      "[80 rows x 6 columns]> <bound method NDFrame.tail of           asin      reviewerID  overall  unixReviewTime   vader  avg_rating\n",
      "0   0000031887  A1M7MWBQJEJWLY      5.0      1260662400  1.7112         5.0\n",
      "1   0000031887  A3Q6CTO56DJ8UZ      4.0      1268697600  0.7826         5.0\n",
      "2   0000031887  A338UR0Q3EG733      5.0      1278979200  1.6036         5.0\n",
      "3   0000031887  A3H1W0DWLW5DLH      5.0      1286668800  1.2190         5.0\n",
      "4   0000031887  A212HMSQUF21Z5      5.0      1293408000  1.5164         5.0\n",
      "5   0000031887   AQ2NZ5X891VX1      5.0      1295308800  2.0971         5.0\n",
      "6   0000031887  A2NXWW4QCL1EU1      5.0      1296604800  1.9701         5.0\n",
      "7   0000031887  A12OFS8WQP86O5      5.0      1297123200  4.1629         5.0\n",
      "8   0000031887  A1KLRMWW2FWPL4      5.0      1297468800  1.4596         5.0\n",
      "9   0000031887  A3SBYCJ5VZQ63O      4.0      1298332800  0.2913         5.0\n",
      "10  0000031887  A133IR93TLOVP2      2.0      1304208000 -0.0915         5.0\n",
      "11  0000031887  A25XPBOOCRNZRL      5.0      1309392000  1.3305         5.0\n",
      "12  0000031887   AFQQ45LMEK5BX      5.0      1311379200  1.8623         5.0\n",
      "13  0000031887  A391EXIT5TFP72      5.0      1321056000  1.0401         5.0\n",
      "14  0000031887   AEIOS4PFEY8B8      3.0      1322265600  1.2843         5.0\n",
      "15  0000031887   AQX47Z9L6637G      5.0      1323561600  1.8945         5.0\n",
      "16  0000031887  A1BRPZYSTVCZLS      1.0      1323993600 -0.6926         5.0\n",
      "17  0000031887   ABJ9MRE79N0A1      5.0      1324425600  2.1886         5.0\n",
      "18  0000031887  A36QXSHZCUC7VY      4.0      1325376000  1.2522         5.0\n",
      "19  0000031887  A2LR2PAE5YNP65      5.0      1326067200  1.3890         5.0\n",
      "20  0000031887  A2G0LNLN79Q6HR      4.0      1337990400  1.2110         5.0\n",
      "21  0000031887  A3S51SY6L4RKHY      5.0      1340755200  2.0223         5.0\n",
      "22  0000031887  A2TVSGUKDUT8HE      5.0      1345507200  1.3506         5.0\n",
      "23  0000031887  A2EKHP38KG3ZV2      5.0      1347321600  0.7264         5.0\n",
      "24  0000031887  A3DIEB054V8KQO      5.0      1348012800  2.5313         5.0\n",
      "25  0000031887   A3EERSWHAI6SO      5.0      1349568000  3.0598         5.0\n",
      "26  0000031887   AIYX758V2D0UB      5.0      1350518400  1.5539         5.0\n",
      "27  0000031887  A1MYJDE1JEKLHX      4.0      1351036800  0.8885         5.0\n",
      "28  0000031887  A2SX7X8QGQVCJU      5.0      1351036800  1.4313         5.0\n",
      "29  0000031887  A25KV0BO428QJJ      5.0      1351728000  1.6657         5.0\n",
      "..         ...             ...      ...             ...     ...         ...\n",
      "10  000100039X   AKZHWD443PALF      5.0       947462400  0.6124         5.0\n",
      "11  000100039X  A3G3KFIT9C7T2S      5.0       949536000  4.3631         5.0\n",
      "12  000100039X  A36OA2VHD295XA      5.0       950227200  1.5839         5.0\n",
      "13  000100039X   AMFSDTN7LJ4EM      5.0       951004800  0.9981         5.0\n",
      "14  000100039X  A2AYZ119ILGZ8M      5.0       951350400  2.5356         5.0\n",
      "15  000100039X  A15ACUAJEJXCS3      5.0       957312000  1.8059         5.0\n",
      "16  000100039X  A3CINOZKBEFMAF      5.0       957312000  1.1469         5.0\n",
      "17  000100039X  A3W43PSHRIG8KV      4.0       957571200  2.8745         5.0\n",
      "18  000100039X  A1XLZQ205ZAC7L      5.0       959644800  2.8131         5.0\n",
      "19  000100039X  A25P6DY6ARTCGZ      5.0       959817600  0.7115         5.0\n",
      "20  000100039X  A1OY66GIJTJ3UH      5.0       960163200  2.7814         5.0\n",
      "21  000100039X  A1NPNGWBVD9AK3      5.0       961804800  2.7905         5.0\n",
      "22  000100039X   AENNW2G826191      3.0       963446400  1.0127         5.0\n",
      "23  000100039X  A1JYPDFD8QQLSC      5.0       965865600  2.3504         5.0\n",
      "24  000100039X  A1TR1LU2JSZLUL      5.0       969148800 -0.9440         5.0\n",
      "25  000100039X  A34GJPYSOGMQ35      4.0       969408000 -2.1181         5.0\n",
      "26  000100039X  A372UKGN0YXF6L      5.0       971913600  0.6582         5.0\n",
      "27  000100039X  A2Q41ZN25XIU8Q      5.0       973036800  1.2038         5.0\n",
      "28  000100039X  A2052JNVUPRTMT      5.0       973814400  3.5117         5.0\n",
      "29  000100039X   ASNP7RXRZFQAA      5.0       977788800  0.8295         5.0\n",
      "30  000100039X  A11TYILTAFKPR3      5.0       978480000  1.8495         5.0\n",
      "31  000100039X  A1K1JW1C5CUSUZ      5.0       980380800  6.7083         5.0\n",
      "32  000100039X   AACTGYBJPRGM6      5.0       981331200  1.6002         5.0\n",
      "33  000100039X  A2X44AITMRTNC4      5.0       981676800  3.3929         5.0\n",
      "34  000100039X  A26GKZPS079GFF      5.0       982972800  0.6369         5.0\n",
      "35  000100039X  A2I35JB67U20C0      5.0       983318400  0.9068         5.0\n",
      "36  000100039X   AD4P3A4RHAZLM      5.0       985046400  0.9010         5.0\n",
      "37  000100039X  A1UYE5C8VH3314      4.0       988934400  5.8332         5.0\n",
      "38  000100039X  A1IE6HLKMQO7GD      5.0       989712000  1.1922         5.0\n",
      "39  000100039X  A393EJD130USD6      5.0       992908800  1.6980         5.0\n",
      "\n",
      "[80 rows x 6 columns]>\n",
      " 6684 products included. Product review number= (40, 6) 098200270XSuccessfully saved to SQL database.\n"
     ]
    }
   ],
   "source": [
    "# make review_subset table with first 20 reviews for each target asin\n",
    "# This method is painfully slow, I can do better\n",
    "# If I can make an SQL query which gives me all results at once\n",
    "q_piece1 = \"SELECT asin, reviewerID, overall, unixReviewTime, vader FROM review_full WHERE asin = '\"\n",
    "q_piece2 = \"' GROUP BY reviewerID ORDER BY unixReviewTime ASC LIMIT 40\"\n",
    "asin_count = 0\n",
    "first_loop = True\n",
    "second_loop = True\n",
    "for asin in target_df['asin'].tolist():\n",
    "    query =  q_piece1 + str(asin) + q_piece2\n",
    "    if first_loop == True:\n",
    "        df = query_db(query, disk_engine)\n",
    "        if df.shape[0] == 40:\n",
    "            first_loop = False\n",
    "            avg_rating = target_df.ix[target_df['asin']==asin, 'avg_rating']\n",
    "            df['avg_rating'] = float(avg_rating)\n",
    "            asin_count += 1\n",
    "            print(asin_count,\n",
    "                  \"products included. Product review number=\",\n",
    "                  df.shape,\n",
    "                  asin,\n",
    "                  end=\"\")\n",
    "        else:\n",
    "            print(\"fail product\", asin_count, \" asin:\", asin)\n",
    "\n",
    "    else:\n",
    "        temp_df = query_db(query, disk_engine)\n",
    "        if temp_df.shape[0] == 40:\n",
    "            avg_rating = target_df.ix[target_df['asin']==asin, 'avg_rating']\n",
    "            temp_df['avg_rating'] = float(avg_rating)\n",
    "            df = pd.concat([df, temp_df]) \n",
    "            asin_count += 1\n",
    "            print(\"\\r\",\n",
    "                  asin_count,\n",
    "                  \"products included. Product review number=\",\n",
    "                  temp_df.shape,\n",
    "                  asin, end=\"\")\n",
    "            if second_loop == True:\n",
    "                second_loop = False\n",
    "                print(df.head, df.tail)\n",
    "        else:\n",
    "            print(\"\\r\",\"fail product\", asin_count, \" asin:\", asin, end=\"\")\n",
    "\n",
    "df.to_sql('review_subset',\n",
    "        disk_engine,\n",
    "        if_exists='replace',\n",
    "        index= False,\n",
    "        dtype={'asin':sqlalchemy.types.NVARCHAR(length=10),\n",
    "         'overall':sqlalchemy.types.INTEGER(),\n",
    "         'reviewerID':sqlalchemy.types.NVARCHAR(length=14),\n",
    "         'unixReviewTime':sqlalchemy.types.INTEGER(),\n",
    "         'vader':sqlalchemy.types.Float(precision=4, asdecimal=True),\n",
    "         'avg_rating':sqlalchemy.types.Float(precision=3, asdecimal=True)})\n",
    "print(\"Successfully saved to SQL database.\")"
   ]
  },
  {
   "cell_type": "code",
   "execution_count": 23,
   "metadata": {
    "collapsed": false
   },
   "outputs": [
    {
     "name": "stdout",
     "output_type": "stream",
     "text": [
      "         asin      reviewerID  overall  unixReviewTime   vader  avg_rating  \\\n",
      "0  0000031887  A1M7MWBQJEJWLY        5      1260662400  1.7112         5.0   \n",
      "1  0000031887  A3Q6CTO56DJ8UZ        4      1268697600  0.7826         5.0   \n",
      "2  0000031887  A338UR0Q3EG733        5      1278979200  1.6036         5.0   \n",
      "3  0000031887  A3H1W0DWLW5DLH        5      1286668800  1.2190         5.0   \n",
      "4  0000031887  A212HMSQUF21Z5        5      1293408000  1.5164         5.0   \n",
      "\n",
      "       reviewerID  SUM(reviewerScore)  \n",
      "0  A1M7MWBQJEJWLY                1200  \n",
      "1  A3Q6CTO56DJ8UZ                 400  \n",
      "2  A338UR0Q3EG733                 200  \n",
      "3  A3H1W0DWLW5DLH                4800  \n",
      "4  A212HMSQUF21Z5                 200  \n"
     ]
    }
   ],
   "source": [
    "# Export review_subset left join on reviewer_scores to csv\n",
    "\n",
    "query = \"\"\"\n",
    "SELECT DISTINCT * FROM (review_subset a\n",
    "LEFT JOIN (SELECT reviewerID, SUM(reviewerScore)\n",
    "FROM reviewer_scores1245\n",
    "GROUP BY reviewerID\n",
    ") u\n",
    "ON a.reviewerID = u.reviewerID)\n",
    "\"\"\"\n",
    "final_df = query_db(query, disk_engine)\n",
    "print(final_df.head())\n",
    "final_df.to_csv(destination + \"reviewsummary.csv\")"
   ]
  },
  {
   "cell_type": "code",
   "execution_count": null,
   "metadata": {
    "collapsed": true
   },
   "outputs": [],
   "source": []
  },
  {
   "cell_type": "code",
   "execution_count": null,
   "metadata": {
    "collapsed": true
   },
   "outputs": [],
   "source": []
  }
 ],
 "metadata": {
  "kernelspec": {
   "display_name": "Python 3",
   "language": "python",
   "name": "python3"
  },
  "language_info": {
   "codemirror_mode": {
    "name": "ipython",
    "version": 3
   },
   "file_extension": ".py",
   "mimetype": "text/x-python",
   "name": "python",
   "nbconvert_exporter": "python",
   "pygments_lexer": "ipython3",
   "version": "3.5.2"
  }
 },
 "nbformat": 4,
 "nbformat_minor": 1
}
