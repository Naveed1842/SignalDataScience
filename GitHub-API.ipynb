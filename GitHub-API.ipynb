{
 "cells": [
  {
   "cell_type": "code",
   "execution_count": 50,
   "metadata": {
    "collapsed": true
   },
   "outputs": [],
   "source": [
    "import json\n",
    "import requests\n",
    "import pandas as pd"
   ]
  },
  {
   "cell_type": "code",
   "execution_count": 13,
   "metadata": {
    "collapsed": false
   },
   "outputs": [],
   "source": [
    "with open('/Users/svenchilton/.passwords.json','r') as password_file:\n",
    "    passwords = json.load(password_file)"
   ]
  },
  {
   "cell_type": "code",
   "execution_count": 25,
   "metadata": {
    "collapsed": false
   },
   "outputs": [],
   "source": [
    "r = requests.get('https://api.github.com/repos/torvalds/linux/issues/17/comments?page=1', \n",
    "                 auth=('svenchilton', passwords['github']))"
   ]
  },
  {
   "cell_type": "code",
   "execution_count": 27,
   "metadata": {
    "collapsed": false
   },
   "outputs": [],
   "source": [
    "last_date_on_page = r.json()[-1]['created_at'][:10]"
   ]
  },
  {
   "cell_type": "code",
   "execution_count": 29,
   "metadata": {
    "collapsed": false
   },
   "outputs": [
    {
     "data": {
      "text/plain": [
       "str"
      ]
     },
     "execution_count": 29,
     "metadata": {},
     "output_type": "execute_result"
    }
   ],
   "source": [
    "type(last_date_on_page)"
   ]
  },
  {
   "cell_type": "code",
   "execution_count": 28,
   "metadata": {
    "collapsed": false
   },
   "outputs": [
    {
     "data": {
      "text/plain": [
       "'2012-05-11'"
      ]
     },
     "execution_count": 28,
     "metadata": {},
     "output_type": "execute_result"
    }
   ],
   "source": [
    "last_date_on_page"
   ]
  },
  {
   "cell_type": "code",
   "execution_count": 30,
   "metadata": {
    "collapsed": false
   },
   "outputs": [
    {
     "data": {
      "text/plain": [
       "True"
      ]
     },
     "execution_count": 30,
     "metadata": {},
     "output_type": "execute_result"
    }
   ],
   "source": [
    "'2012-05-12' > last_date_on_page"
   ]
  },
  {
   "cell_type": "code",
   "execution_count": 32,
   "metadata": {
    "collapsed": false
   },
   "outputs": [
    {
     "data": {
      "text/plain": [
       "True"
      ]
     },
     "execution_count": 32,
     "metadata": {},
     "output_type": "execute_result"
    }
   ],
   "source": [
    "'2012-06-11' > '2012-05-12'"
   ]
  },
  {
   "cell_type": "code",
   "execution_count": 43,
   "metadata": {
    "collapsed": false
   },
   "outputs": [],
   "source": [
    "p = 1\n",
    "last_date_on_page = None\n",
    "json_data_temp = []\n",
    "while last_date_on_page is None or last_date_on_page <= '2012-05-12':\n",
    "    address = 'https://api.github.com/repos/torvalds/linux/issues/17/comments?page=' + str(p)\n",
    "    r = requests.get(address, auth=('svenchilton', passwords['github']))\n",
    "    json_data_temp += r.json()\n",
    "    last_date_on_page = r.json()[-1]['created_at'][:10]\n",
    "    p += 1\n",
    "with open('../data/linux_issues_17.json', 'a') as outfile:\n",
    "    json.dump(json_data_temp, outfile)"
   ]
  },
  {
   "cell_type": "code",
   "execution_count": 44,
   "metadata": {
    "collapsed": false
   },
   "outputs": [
    {
     "data": {
      "text/plain": [
       "5"
      ]
     },
     "execution_count": 44,
     "metadata": {},
     "output_type": "execute_result"
    }
   ],
   "source": [
    "p"
   ]
  },
  {
   "cell_type": "markdown",
   "metadata": {},
   "source": [
    "It appears that only the first 5 comment pages on Issue 17 of Linus Torvalds' (GitHub username torvalds) linux repo were created on dates up to and including May 12, 2012"
   ]
  },
  {
   "cell_type": "code",
   "execution_count": 45,
   "metadata": {
    "collapsed": false
   },
   "outputs": [],
   "source": [
    "with open('../data/linux_issues_17.json','r') as linux_issues_file:\n",
    "    linux_issues_data = json.load(linux_issues_file)"
   ]
  },
  {
   "cell_type": "code",
   "execution_count": 52,
   "metadata": {
    "collapsed": false
   },
   "outputs": [
    {
     "data": {
      "text/plain": [
       "{'body': 'On Wed, May 16, 2012 at 1:33 PM, mathew\\n<reply@reply.github.com>\\nwrote:\\n>\\n> I suspect that the current practice of inviting people to use GitHub with your projects and then chastising them when they do so is unlikely to lead to anything positive.\\n\\nWhy not?\\n\\nWhat the f*ck is the problem with just trying to get github to improve?\\n\\n                      Linus',\n",
       " 'created_at': '2012-05-16T20:44:23Z',\n",
       " 'html_url': 'https://github.com/torvalds/linux/pull/17#issuecomment-5751543',\n",
       " 'id': 5751543,\n",
       " 'issue_url': 'https://api.github.com/repos/torvalds/linux/issues/17',\n",
       " 'updated_at': '2012-05-16T20:44:23Z',\n",
       " 'url': 'https://api.github.com/repos/torvalds/linux/issues/comments/5751543',\n",
       " 'user': {'avatar_url': 'https://avatars.githubusercontent.com/u/1024025?v=3',\n",
       "  'events_url': 'https://api.github.com/users/torvalds/events{/privacy}',\n",
       "  'followers_url': 'https://api.github.com/users/torvalds/followers',\n",
       "  'following_url': 'https://api.github.com/users/torvalds/following{/other_user}',\n",
       "  'gists_url': 'https://api.github.com/users/torvalds/gists{/gist_id}',\n",
       "  'gravatar_id': '',\n",
       "  'html_url': 'https://github.com/torvalds',\n",
       "  'id': 1024025,\n",
       "  'login': 'torvalds',\n",
       "  'organizations_url': 'https://api.github.com/users/torvalds/orgs',\n",
       "  'received_events_url': 'https://api.github.com/users/torvalds/received_events',\n",
       "  'repos_url': 'https://api.github.com/users/torvalds/repos',\n",
       "  'site_admin': False,\n",
       "  'starred_url': 'https://api.github.com/users/torvalds/starred{/owner}{/repo}',\n",
       "  'subscriptions_url': 'https://api.github.com/users/torvalds/subscriptions',\n",
       "  'type': 'User',\n",
       "  'url': 'https://api.github.com/users/torvalds'}}"
      ]
     },
     "execution_count": 52,
     "metadata": {},
     "output_type": "execute_result"
    }
   ],
   "source": [
    "linux_issues_data[-2]"
   ]
  },
  {
   "cell_type": "code",
   "execution_count": 51,
   "metadata": {
    "collapsed": false
   },
   "outputs": [
    {
     "data": {
      "text/plain": [
       "'On Wed, May 16, 2012 at 1:33 PM, mathew\\n<reply@reply.github.com>\\nwrote:\\n>\\n> I suspect that the current practice of inviting people to use GitHub with your projects and then chastising them when they do so is unlikely to lead to anything positive.\\n\\nWhy not?\\n\\nWhat the f*ck is the problem with just trying to get github to improve?\\n\\n                      Linus'"
      ]
     },
     "execution_count": 51,
     "metadata": {},
     "output_type": "execute_result"
    }
   ],
   "source": [
    "# This will give us the comment, but we will need to process it further\n",
    "linux_issues_data[-2]['body']"
   ]
  },
  {
   "cell_type": "code",
   "execution_count": 53,
   "metadata": {
    "collapsed": false
   },
   "outputs": [
    {
     "data": {
      "text/plain": [
       "'torvalds'"
      ]
     },
     "execution_count": 53,
     "metadata": {},
     "output_type": "execute_result"
    }
   ],
   "source": [
    "# This will give us the username\n",
    "linux_issues_data[-2]['user']['login']"
   ]
  },
  {
   "cell_type": "code",
   "execution_count": 54,
   "metadata": {
    "collapsed": true
   },
   "outputs": [],
   "source": [
    "# This will process our text so that annoying headers and line break characters don't appear \n",
    "# in the final df\n",
    "dummytext = linux_issues_data[-2]['body']\n",
    "search = 'wrote:'\n",
    "location = dummytext.index(search) + len(search)\n",
    "#dummysubtext = dummytext[location:].strip('\\n')\n",
    "dummysubtext = dummytext.replace('\\n',' ')"
   ]
  },
  {
   "cell_type": "code",
   "execution_count": 55,
   "metadata": {
    "collapsed": false
   },
   "outputs": [
    {
     "data": {
      "text/plain": [
       "'>\\n> I suspect that the current practice of inviting people to use GitHub with your projects and then chastising them when they do so is unlikely to lead to anything positive.\\n\\nWhy not?\\n\\nWhat the f*ck is the problem with just trying to get github to improve?\\n\\n                      Linus'"
      ]
     },
     "execution_count": 55,
     "metadata": {},
     "output_type": "execute_result"
    }
   ],
   "source": [
    "dummysubtext"
   ]
  },
  {
   "cell_type": "code",
   "execution_count": 56,
   "metadata": {
    "collapsed": false
   },
   "outputs": [
    {
     "name": "stdout",
     "output_type": "stream",
     "text": [
      ">\n",
      "> I suspect that the current practice of inviting people to use GitHub with your projects and then chastising them when they do so is unlikely to lead to anything positive.\n",
      "\n",
      "Why not?\n",
      "\n",
      "What the f*ck is the problem with just trying to get github to improve?\n",
      "\n",
      "                      Linus\n"
     ]
    }
   ],
   "source": [
    "print(dummysubtext)"
   ]
  },
  {
   "cell_type": "code",
   "execution_count": null,
   "metadata": {
    "collapsed": true
   },
   "outputs": [],
   "source": []
  }
 ],
 "metadata": {
  "kernelspec": {
   "display_name": "Python 3",
   "language": "python",
   "name": "python3"
  },
  "language_info": {
   "codemirror_mode": {
    "name": "ipython",
    "version": 3
   },
   "file_extension": ".py",
   "mimetype": "text/x-python",
   "name": "python",
   "nbconvert_exporter": "python",
   "pygments_lexer": "ipython3",
   "version": "3.4.5"
  }
 },
 "nbformat": 4,
 "nbformat_minor": 0
}
