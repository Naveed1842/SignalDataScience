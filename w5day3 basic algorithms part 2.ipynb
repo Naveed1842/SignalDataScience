{
 "cells": [
  {
   "cell_type": "code",
   "execution_count": 34,
   "metadata": {
    "collapsed": false
   },
   "outputs": [],
   "source": [
    "# Permutation generation\n",
    "def perm_naive(n):\n",
    "  if n < 2:\n",
    "    return ([[1]])\n",
    "  else:\n",
    "    p = list(perm_naive(n-1))\n",
    "    perm_list = []\n",
    "    for lis in range(0, len(p)):\n",
    "      temp_lis = p[lis]\n",
    "      for pos in range(0, len(p[lis])+1):\n",
    "        temp_lis.insert(pos, n)\n",
    "        # print(\"perm=\",temp_lis, \"position=\", pos)\n",
    "        perm_list.append(temp_lis[:])\n",
    "        temp_lis.pop(pos)\n",
    "    return([list(x) for x in set(tuple(x) for x in perm_list)])"
   ]
  },
  {
   "cell_type": "code",
   "execution_count": null,
   "metadata": {
    "collapsed": false
   },
   "outputs": [],
   "source": [
    "%%timeit\n",
    "perm_naive(10)\n"
   ]
  },
  {
   "cell_type": "code",
   "execution_count": 53,
   "metadata": {
    "collapsed": false
   },
   "outputs": [],
   "source": [
    "# Permutations in lexicographic order\n",
    "from math import factorial\n",
    "def perm_lexico(n):\n",
    "  a = list(range(1, n + 1))\n",
    "  perm_list = [0]*(factorial(n))\n",
    "  perm_list[0] = list(a)\n",
    "  count = 1\n",
    "  done = False\n",
    "  while done == False:\n",
    "    # find largest k, a[k] < a[k + 1]\n",
    "    k = -1\n",
    "    for pos in range(0, len(a)-1):\n",
    "      if a[pos] < a[pos+1]: k = pos\n",
    "    if k==-1: break\n",
    "    # find largest index I, a[k] < a[I]\n",
    "    I = 0\n",
    "    for pos in range(0, len(a)):\n",
    "      if a[k] < a[pos]: I = pos\n",
    "    # swap a[k] with a[I]\n",
    "    aI = a.pop(I)\n",
    "    ak = a.pop(k)\n",
    "    a.insert(k, aI)\n",
    "    a.insert(I, ak)\n",
    "    # reverse sequence a[k + 1] through a[n]\n",
    "    seq = a[k+1:]\n",
    "    #print(seq, \"         reversed = \", seq[::-1])\n",
    "    a[k+1:] = seq[::-1]\n",
    "    # add this new permutation to the perm_list\n",
    "    perm_list[count] = a[:]\n",
    "    count = count + 1\n",
    "  return (perm_list)"
   ]
  },
  {
   "cell_type": "code",
   "execution_count": 55,
   "metadata": {
    "collapsed": false
   },
   "outputs": [
    {
     "name": "stdout",
     "output_type": "stream",
     "text": [
      "10 loops, best of 3: 32.1 ms per loop\n"
     ]
    }
   ],
   "source": [
    "%%timeit\n",
    "len(perm_lexico(7))"
   ]
  },
  {
   "cell_type": "code",
   "execution_count": 14,
   "metadata": {
    "collapsed": false
   },
   "outputs": [],
   "source": [
    "# Merge sort\n",
    "\n",
    "def merge_sort(l):\n",
    "  if len(l) == 1:\n",
    "    return(l)\n",
    "  if len(l) == 2:\n",
    "    if l[0]<l[1]:\n",
    "      return([l[0], l[1]])\n",
    "    else:\n",
    "      return([l[1], l[0]])\n",
    "  else:\n",
    "    first_half = merge_sort(l[0:(len(l)//2)])\n",
    "    second_half = merge_sort(l[(len(l)//2):])\n",
    "    # print(\"first half = \", first_half)\n",
    "    # print(\"second half = \", second_half)\n",
    "    if first_half[-1] <= second_half[0]: \n",
    "      # print(\"case 1\")\n",
    "      first_half.extend(second_half)\n",
    "      return (first_half[:])\n",
    "    elif second_half[-1] <= first_half[0]: \n",
    "      # print(\"case 2\")\n",
    "      second_half.extend(first_half)\n",
    "      return (second_half[:])\n",
    "    else:\n",
    "      # print(\"case 3\")\n",
    "      count = 1\n",
    "      for item in second_half:\n",
    "        for pos in range(0, len(first_half)):\n",
    "          if item < first_half[pos]: \n",
    "            first_half.insert(pos, item)\n",
    "            break\n",
    "          if count == len(first_half):\n",
    "            first_half.append(item)\n",
    "            break\n",
    "          count += 1\n",
    "      # print(first_half)\n",
    "      return (first_half)\n",
    "          \n",
    "    "
   ]
  },
  {
   "cell_type": "code",
   "execution_count": 17,
   "metadata": {
    "collapsed": false
   },
   "outputs": [
    {
     "name": "stdout",
     "output_type": "stream",
     "text": [
      "first half =  [1]\n",
      "second half =  [5, 5]\n",
      "case 1\n",
      "first half =  [2, 3]\n",
      "second half =  [1, 5, 5]\n",
      "case 3\n",
      "[1, 2, 3, 5, 5]\n",
      "first half =  [5]\n",
      "second half =  [1, 4]\n",
      "case 2\n",
      "first half =  [5]\n",
      "second half =  [7, 8]\n",
      "case 1\n",
      "first half =  [1, 4, 5]\n",
      "second half =  [5, 7, 8]\n",
      "case 1\n",
      "first half =  [1, 2, 3, 5, 5]\n",
      "second half =  [1, 4, 5, 5, 7, 8]\n",
      "case 3\n",
      "[1, 1, 2, 3, 4, 5, 5, 5, 5, 7, 8]\n",
      "[1, 1, 2, 3, 4, 5, 5, 5, 5, 7, 8]\n"
     ]
    }
   ],
   "source": [
    "print(merge_sort([2,3,1,5,5,5,1,4,5,7,8]))"
   ]
  },
  {
   "cell_type": "code",
   "execution_count": 55,
   "metadata": {
    "collapsed": false
   },
   "outputs": [],
   "source": [
    "from random import randint, seed\n",
    "def quicksort(L):\n",
    "  if (len(L) == 0): return\n",
    "  if (len(L) == 1): return(L)\n",
    "  i = randint(0, len(L)-1)\n",
    "  print(\"i = \", i)\n",
    "  lesser = []\n",
    "  greater = []\n",
    "  equally = []\n",
    "  Li = L[i]\n",
    "  less = False\n",
    "  more = False\n",
    "  equal = False\n",
    "  for item in L:\n",
    "    if item < Li:\n",
    "      lesser.append(item)\n",
    "      less = True\n",
    "    if item == Li:\n",
    "      equally.append(item)\n",
    "      equal = True\n",
    "    if item > Li:\n",
    "      greater.append(item)\n",
    "      more = True\n",
    "    master = []\n",
    "  if less == True: \n",
    "    print(\"lesser\", lesser)\n",
    "    master.extend(quicksort(lesser))\n",
    "  if equal == True:\n",
    "    master.extend(equally)\n",
    "  if more == True:\n",
    "    print(\"greater\", greater)\n",
    "    master.extend(quicksort(greater))\n",
    "  return(master)\n",
    "  "
   ]
  },
  {
   "cell_type": "code",
   "execution_count": 27,
   "metadata": {
    "collapsed": false
   },
   "outputs": [
    {
     "name": "stdout",
     "output_type": "stream",
     "text": [
      "i =  1\n",
      "lesser [-199]\n",
      "greater [-8, 1, -3]\n",
      "i =  1\n",
      "lesser [-8, -3]\n",
      "i =  0\n",
      "greater [-3]\n"
     ]
    },
    {
     "data": {
      "text/plain": [
       "[-199, -99, -8, -3, 1]"
      ]
     },
     "execution_count": 27,
     "metadata": {},
     "output_type": "execute_result"
    }
   ],
   "source": [
    "quicksort([-199,-99, -8, 1, -3])\n"
   ]
  },
  {
   "cell_type": "code",
   "execution_count": 221,
   "metadata": {
    "collapsed": false
   },
   "outputs": [],
   "source": [
    "def quickselect(L, k):\n",
    "  if k>len(L): k = len(L)\n",
    "  if len(L)<=1: return(L)\n",
    "  i = randint(0, len(L)-1)\n",
    "  lesser = []\n",
    "  greater = []\n",
    "  equally = []\n",
    "  Li = L[i]\n",
    "  print(i, Li, \"k = \", k)\n",
    "  for item in L:\n",
    "    if item < Li:\n",
    "      lesser.append(item)\n",
    "    if item == Li:\n",
    "      equally.append(item)\n",
    "    if item > Li:\n",
    "      greater.append(item)\n",
    "  if len(lesser)== k:\n",
    "    print(\"max of lesser\")\n",
    "    return(max(lesser))\n",
    "  elif (len(lesser) + len(equally)) < k:\n",
    "    print(\"greater\")\n",
    "    return(quickselect(greater, k-(len(lesser) + len(equally))))\n",
    "  elif len(lesser) > k:\n",
    "    print(\"lesser\")\n",
    "    return(quickselect(lesser, k))\n",
    "  print(\"equally\")\n",
    "  return(equally[0])"
   ]
  },
  {
   "cell_type": "code",
   "execution_count": null,
   "metadata": {
    "collapsed": false
   },
   "outputs": [],
   "source": []
  },
  {
   "cell_type": "code",
   "execution_count": 260,
   "metadata": {
    "collapsed": false
   },
   "outputs": [
    {
     "name": "stdout",
     "output_type": "stream",
     "text": [
      "1 2 k =  5\n",
      "greater\n",
      "0 3 k =  2\n",
      "equally\n"
     ]
    },
    {
     "data": {
      "text/plain": [
       "3"
      ]
     },
     "execution_count": 260,
     "metadata": {},
     "output_type": "execute_result"
    }
   ],
   "source": [
    "quickselect([1,2,3,3,1,5,6,7], 5)"
   ]
  },
  {
   "cell_type": "code",
   "execution_count": null,
   "metadata": {
    "collapsed": true
   },
   "outputs": [],
   "source": [
    "\n",
    "\n",
    "\n",
    "\n",
    "\n",
    "\n",
    "\n",
    "\n",
    "\n",
    "\n",
    "\n",
    "\n"
   ]
  }
 ],
 "metadata": {
  "kernelspec": {
   "display_name": "Python 3",
   "language": "python",
   "name": "python3"
  },
  "language_info": {
   "codemirror_mode": {
    "name": "ipython",
    "version": 3
   },
   "file_extension": ".py",
   "mimetype": "text/x-python",
   "name": "python",
   "nbconvert_exporter": "python",
   "pygments_lexer": "ipython3",
   "version": "3.4.3"
  }
 },
 "nbformat": 4,
 "nbformat_minor": 0
}
